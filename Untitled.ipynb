{
 "cells": [
  {
   "cell_type": "code",
   "execution_count": 2,
   "metadata": {},
   "outputs": [
    {
     "name": "stdout",
     "output_type": "stream",
     "text": [
      "Word: [the] Frequency: 9\n",
      "Word: [life] Frequency: 1\n",
      "Word: [situations] Frequency: 1\n",
      "Word: [since] Frequency: 1\n",
      "Word: [day] Frequency: 4\n",
      "Word: [hdfs] Frequency: 11\n",
      "Word: [hadoop] Frequency: 8\n"
     ]
    }
   ],
   "source": [
    "#kelime ayiklama\n",
    "file = open('terminal.txt', 'r')\n",
    "book = file.read()\n",
    "\n",
    "\n",
    "def tokenize():\n",
    "    if book is not None:\n",
    "        words = book.lower().split()\n",
    "        return words\n",
    "    else:\n",
    "        return None\n",
    "        \n",
    "\n",
    "def map_book(tokens):\n",
    "    hash_map = {}\n",
    "\n",
    "    if tokens is not None:\n",
    "        for element in tokens:\n",
    "            # Remove Punctuation\n",
    "            word = element.replace(\",\",\"\")\n",
    "            word = word.replace(\".\",\"\")\n",
    "\n",
    "            # Word Exist?\n",
    "            if word in hash_map:\n",
    "                hash_map[word] = hash_map[word] + 1\n",
    "            else:\n",
    "                hash_map[word] = 1\n",
    "\n",
    "        return hash_map\n",
    "    else:\n",
    "        return None\n",
    "\n",
    "\n",
    "# Tokenize the Book\n",
    "words = tokenize()\n",
    "word_list = ['the','life','situations','since','day','hdfs','hadoop']\n",
    "\n",
    "# Create a Hash Map (Dictionary)\n",
    "map = map_book(words)\n",
    "\n",
    "# Show Word Information\n",
    "for word in word_list:\n",
    "    print ('Word: [' + word + '] Frequency: ' + str(map[word]))\n"
   ]
  },
  {
   "cell_type": "code",
   "execution_count": 1,
   "metadata": {},
   "outputs": [
    {
     "name": "stdout",
     "output_type": "stream",
     "text": [
      "10\n"
     ]
    }
   ],
   "source": [
    "\n",
    "accum = sc.accumulator(0)\n",
    "sc.parallelize([1, 2, 3, 4]).foreach(lambda x: accum.add(x))\n",
    "print(accum.value)\n",
    "def g(x):\n",
    "    accum.add(x)\n",
    "    return f(x)\n"
   ]
  },
  {
   "cell_type": "code",
   "execution_count": 33,
   "metadata": {},
   "outputs": [
    {
     "ename": "NameError",
     "evalue": "name 'AccumulatorParam' is not defined",
     "output_type": "error",
     "traceback": [
      "\u001b[0;31m---------------------------------------------------------------------------\u001b[0m",
      "\u001b[0;31mNameError\u001b[0m                                 Traceback (most recent call last)",
      "\u001b[0;32m<ipython-input-33-e6415a8ef9d9>\u001b[0m in \u001b[0;36m<module>\u001b[0;34m()\u001b[0m\n\u001b[0;32m----> 1\u001b[0;31m \u001b[0;32mclass\u001b[0m \u001b[0mVectorAccumulatorParam\u001b[0m\u001b[0;34m(\u001b[0m\u001b[0mAccumulatorParam\u001b[0m\u001b[0;34m)\u001b[0m\u001b[0;34m:\u001b[0m\u001b[0;34m\u001b[0m\u001b[0m\n\u001b[0m\u001b[1;32m      2\u001b[0m     \u001b[0;32mdef\u001b[0m \u001b[0mzero\u001b[0m\u001b[0;34m(\u001b[0m\u001b[0mself\u001b[0m\u001b[0;34m,\u001b[0m \u001b[0minitialValue\u001b[0m\u001b[0;34m)\u001b[0m\u001b[0;34m:\u001b[0m\u001b[0;34m\u001b[0m\u001b[0m\n\u001b[1;32m      3\u001b[0m         \u001b[0;32mreturn\u001b[0m \u001b[0mVector\u001b[0m\u001b[0;34m.\u001b[0m\u001b[0mzeros\u001b[0m\u001b[0;34m(\u001b[0m\u001b[0minitialValue\u001b[0m\u001b[0;34m.\u001b[0m\u001b[0msize\u001b[0m\u001b[0;34m)\u001b[0m\u001b[0;34m\u001b[0m\u001b[0m\n\u001b[1;32m      4\u001b[0m \u001b[0;34m\u001b[0m\u001b[0m\n\u001b[1;32m      5\u001b[0m     \u001b[0;32mdef\u001b[0m \u001b[0maddInPlace\u001b[0m\u001b[0;34m(\u001b[0m\u001b[0mself\u001b[0m\u001b[0;34m,\u001b[0m \u001b[0mv1\u001b[0m\u001b[0;34m,\u001b[0m \u001b[0mv2\u001b[0m\u001b[0;34m)\u001b[0m\u001b[0;34m:\u001b[0m\u001b[0;34m\u001b[0m\u001b[0m\n",
      "\u001b[0;31mNameError\u001b[0m: name 'AccumulatorParam' is not defined"
     ]
    }
   ],
   "source": []
  },
  {
   "cell_type": "code",
   "execution_count": 32,
   "metadata": {},
   "outputs": [
    {
     "name": "stdout",
     "output_type": "stream",
     "text": [
      "Cancelled\n",
      "<function <lambda> at 0x1080d8840>\n",
      "<function <lambda> at 0x1080d8ae8>\n"
     ]
    }
   ],
   "source": [
    "import threading\n",
    "from time import sleep\n",
    "result = \"Not Set\"\n",
    "lock = threading.Lock()\n",
    "def map_func(x):\n",
    "    sleep(100)\n",
    "    raise Exception(\"Task should have been cancelled\")\n",
    "def start_job(x):\n",
    "    global result\n",
    "    try:\n",
    "        sc.setJobGroup(\"job_to_cancel\", \"some description\")\n",
    "        result = sc.parallelize(range(x)).map(map_func).collect()\n",
    "    except Exception as e:\n",
    "        result = \"Cancelled\"\n",
    "    lock.release()\n",
    "def stop_job():\n",
    "    sleep(5)\n",
    "    sc.cancelJobGroup(\"job_to_cancel\")\n",
    "supress = lock.acquire()\n",
    "supress = threading.Thread(target=start_job, args=(10,)).start()\n",
    "supress = threading.Thread(target=stop_job).start()\n",
    "supress = lock.acquire()\n",
    "print(result)\n",
    "seqOp = (lambda x, y: (x[0] + y, x[1] + 1))\n",
    "combOp = (lambda x, y: (x[0] + y[0], x[1] + y[1]))\n",
    "print(seqOp)\n",
    "print(combOp)"
   ]
  },
  {
   "cell_type": "code",
   "execution_count": null,
   "metadata": {
    "collapsed": true
   },
   "outputs": [],
   "source": []
  }
 ],
 "metadata": {
  "kernelspec": {
   "display_name": "Python [conda root]",
   "language": "python",
   "name": "conda-root-py"
  },
  "language_info": {
   "codemirror_mode": {
    "name": "ipython",
    "version": 3
   },
   "file_extension": ".py",
   "mimetype": "text/x-python",
   "name": "python",
   "nbconvert_exporter": "python",
   "pygments_lexer": "ipython3",
   "version": "3.5.3"
  }
 },
 "nbformat": 4,
 "nbformat_minor": 2
}
