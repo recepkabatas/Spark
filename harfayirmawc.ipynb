{
 "cells": [
  {
   "cell_type": "code",
   "execution_count": null,
   "metadata": {},
   "outputs": [],
   "source": [
    "\n",
    "def main():\n",
    "    filename = input(\"Enter a filename: \").strip()\n",
    "    infile = open(filename, \"r\") # Open the file\n",
    "\n",
    "    counts = 26 * [0] # Create and initialize counts\n",
    "    print(counts)\n",
    "    for line in infile:\n",
    "        # Invoke the countLetters function to count each letter\n",
    "        countLetters(line.lower(), counts)\n",
    "    \n",
    "    # Display results\n",
    "    for i in range(len(counts)):\n",
    "        if counts[i] != 0:\n",
    "            print(chr(ord('a') + i) + \" appears \" + str(counts[i])\n",
    "              + (\" time\" if counts[i] == 1 else \" times\"))\n",
    "    print(counts)\n",
    "    \n",
    "    toplam_harf=0\n",
    "    for i in range(len(counts)):\n",
    "        toplam_harf+=counts[i]\n",
    "    print(toplam_harf)\n",
    "    \n",
    "    \n",
    "    infile.close() # Close file\n",
    "        \n",
    "        \n",
    "    \n",
    "  \n",
    "# Count each letter in the string \n",
    "def countLetters(line, counts): \n",
    "    for ch in line:\n",
    "        if ch.isalpha():\n",
    "            counts[ord(ch) - ord('a')] += 1\n",
    "\n",
    "main() # Call the main function\n"
   ]
  },
  {
   "cell_type": "code",
   "execution_count": null,
   "metadata": {
    "collapsed": true
   },
   "outputs": [],
   "source": [
    "print(\"d\")"
   ]
  },
  {
   "cell_type": "code",
   "execution_count": null,
   "metadata": {
    "collapsed": true
   },
   "outputs": [],
   "source": []
  }
 ],
 "metadata": {
  "kernelspec": {
   "display_name": "Python [conda root]",
   "language": "python",
   "name": "conda-root-py"
  },
  "language_info": {
   "codemirror_mode": {
    "name": "ipython",
    "version": 3
   },
   "file_extension": ".py",
   "mimetype": "text/x-python",
   "name": "python",
   "nbconvert_exporter": "python",
   "pygments_lexer": "ipython3",
   "version": "3.5.3"
  }
 },
 "nbformat": 4,
 "nbformat_minor": 2
}
